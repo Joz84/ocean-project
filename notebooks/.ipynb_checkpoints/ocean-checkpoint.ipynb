{
 "cells": [
  {
   "cell_type": "markdown",
   "id": "electronic-preliminary",
   "metadata": {},
   "source": [
    "# Super Projet sur les Ocean"
   ]
  },
  {
   "cell_type": "code",
   "execution_count": 1,
   "id": "modern-asset",
   "metadata": {},
   "outputs": [],
   "source": [
    "from ocean.poisson import Poisson"
   ]
  },
  {
   "cell_type": "code",
   "execution_count": 2,
   "id": "literary-excitement",
   "metadata": {},
   "outputs": [],
   "source": [
    "import os\n",
    "import sys"
   ]
  },
  {
   "cell_type": "code",
   "execution_count": 3,
   "id": "periodic-hardwood",
   "metadata": {},
   "outputs": [
    {
     "data": {
      "text/plain": [
       "<module 'posixpath' from '/Users/jonathan/.pyenv/versions/3.8.6/lib/python3.8/posixpath.py'>"
      ]
     },
     "execution_count": 3,
     "metadata": {},
     "output_type": "execute_result"
    }
   ],
   "source": [
    "os.path"
   ]
  }
 ],
 "metadata": {
  "kernelspec": {
   "display_name": "Python 3",
   "language": "python",
   "name": "python3"
  },
  "language_info": {
   "codemirror_mode": {
    "name": "ipython",
    "version": 3
   },
   "file_extension": ".py",
   "mimetype": "text/x-python",
   "name": "python",
   "nbconvert_exporter": "python",
   "pygments_lexer": "ipython3",
   "version": "3.8.6"
  }
 },
 "nbformat": 4,
 "nbformat_minor": 5
}
