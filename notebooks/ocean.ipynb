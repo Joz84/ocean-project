{
 "cells": [
  {
   "cell_type": "markdown",
   "id": "electronic-preliminary",
   "metadata": {},
   "source": [
    "# Super Projet sur les Ocean"
   ]
  },
  {
   "cell_type": "code",
   "execution_count": null,
   "id": "double-tablet",
   "metadata": {},
   "outputs": [],
   "source": [
    "import sys"
   ]
  },
  {
   "cell_type": "code",
   "execution_count": null,
   "id": "intensive-cleaning",
   "metadata": {},
   "outputs": [],
   "source": [
    "sys.path.append(\"/Users/jonathan/code/Joz84/python/formations/simplon/oop/livecode/ocean-project\")"
   ]
  },
  {
   "cell_type": "code",
   "execution_count": 13,
   "id": "modern-asset",
   "metadata": {},
   "outputs": [
    {
     "ename": "SyntaxError",
     "evalue": "invalid syntax (<ipython-input-13-a844a6f110f2>, line 1)",
     "output_type": "error",
     "traceback": [
      "\u001b[0;36m  File \u001b[0;32m\"<ipython-input-13-a844a6f110f2>\"\u001b[0;36m, line \u001b[0;32m1\u001b[0m\n\u001b[0;31m    from ../ocean.poisson import Poisson\u001b[0m\n\u001b[0m           ^\u001b[0m\n\u001b[0;31mSyntaxError\u001b[0m\u001b[0;31m:\u001b[0m invalid syntax\n"
     ]
    }
   ],
   "source": [
    "from ocean.poisson import Poisson"
   ]
  }
 ],
 "metadata": {
  "kernelspec": {
   "display_name": "Python 3",
   "language": "python",
   "name": "python3"
  },
  "language_info": {
   "codemirror_mode": {
    "name": "ipython",
    "version": 3
   },
   "file_extension": ".py",
   "mimetype": "text/x-python",
   "name": "python",
   "nbconvert_exporter": "python",
   "pygments_lexer": "ipython3",
   "version": "3.8.6"
  }
 },
 "nbformat": 4,
 "nbformat_minor": 5
}
